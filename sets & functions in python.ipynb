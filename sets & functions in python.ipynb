{
 "cells": [
  {
   "cell_type": "markdown",
   "id": "a7dea0ff",
   "metadata": {},
   "source": [
    "# sets\n",
    "- set methods\n",
    "\n",
    "# functions\n",
    "- built in functions-> print(),input(),sum(),max(),type(),id(),range(),sorted(),reversed()\n",
    "- user defined functions"
   ]
  },
  {
   "cell_type": "markdown",
   "id": "f6cd36ff",
   "metadata": {},
   "source": [
    "## sets\n",
    "- used for storing non homogenuous group of unique data\n",
    "\n",
    "### properties\n",
    "- `{}` used for storing data with comma separator\n",
    "- mutable\n",
    "- unordered\n",
    "- we can't access the data from set using indexing\n",
    "- it doesn't allow duplicate data"
   ]
  },
  {
   "cell_type": "code",
   "execution_count": 2,
   "id": "90cf2f7c",
   "metadata": {},
   "outputs": [
    {
     "name": "stdout",
     "output_type": "stream",
     "text": [
      "<class 'set'>\n"
     ]
    }
   ],
   "source": [
    "s1=set()\n",
    "print(type(s1))"
   ]
  },
  {
   "cell_type": "code",
   "execution_count": 3,
   "id": "ac2f60e4",
   "metadata": {},
   "outputs": [
    {
     "name": "stdout",
     "output_type": "stream",
     "text": [
      "{0.26, 1, 2, 2.55, 0.1, 5, 6, 'apssdc', 'python', 56}\n"
     ]
    }
   ],
   "source": [
    "s1={2,1,5,6,'apssdc','python',2.55,56,0.26,0.10}\n",
    "print(s1)"
   ]
  },
  {
   "cell_type": "code",
   "execution_count": 4,
   "id": "de6d1780",
   "metadata": {},
   "outputs": [
    {
     "name": "stdout",
     "output_type": "stream",
     "text": [
      "{1, 2, 3, 4}\n"
     ]
    }
   ],
   "source": [
    "s2={1,2,3,4,4,3,2,1}\n",
    "print(s2)"
   ]
  },
  {
   "cell_type": "code",
   "execution_count": 5,
   "id": "71fa3183",
   "metadata": {},
   "outputs": [],
   "source": [
    "st=\"\"\"Python is an interpreted high-level general-purpose programming language. Python's design philosophy emphasizes code readability with its notable use of significant indentation. Its language constructs as well as its object-oriented approach aim to help …\n",
    "Wikipedia iconWikipedia\n",
    "Product info: Free · Python Software Foundation\n",
    "Platform: Microsoft Windows\n",
    "Official website: python.org\n",
    "Academic conferences: PyHPC 2013 · PythonBrasil 2012 · PySC 2011 · PyHPC 2015 · ConFoo 2012 · PyHPC 2014 · PyHPC 2012 · PyCon DE 2013 · PyCon 2012 · inpycon 2010 · ESCO 2012 · Kiwi PyCon 2011 · PyHPC 2011\n",
    "Developer: Python Software Foundation\n",
    "Operating systems: Windows, Linux/UNIX, macOS and more\"\"\""
   ]
  },
  {
   "cell_type": "code",
   "execution_count": 10,
   "id": "2bf97d1e",
   "metadata": {},
   "outputs": [
    {
     "name": "stdout",
     "output_type": "stream",
     "text": [
      "{'P': 21, 'y': 19, 't': 32, 'h': 14, 'o': 44, 'n': 40, ' ': 94, 'i': 42, 's': 25, 'a': 31, 'e': 41, 'r': 22, 'p': 16, 'd': 15, 'g': 12, '-': 3, 'l': 15, 'v': 2, 'u': 9, 'm': 9, '.': 3, \"'\": 1, 'z': 1, 'c': 16, 'b': 4, 'w': 8, 'f': 10, 'I': 2, 'j': 1, '…': 1, '\\n': 7, 'W': 4, 'k': 2, ':': 6, 'F': 4, '·': 13, 'S': 5, 'M': 1, 'O': 4, 'A': 1, 'H': 5, 'C': 11, '2': 18, '0': 14, '1': 16, '3': 2, 'B': 1, '5': 1, '4': 1, 'D': 2, 'E': 2, 'K': 1, ',': 2, 'L': 1, 'x': 1, '/': 1, 'U': 1, 'N': 1, 'X': 1}\n"
     ]
    }
   ],
   "source": [
    "c={}\n",
    "for char in st:\n",
    "    # print(char,end=' ')\n",
    "    c[char]=st.count(char)\n",
    "print(c)"
   ]
  },
  {
   "cell_type": "code",
   "execution_count": 11,
   "id": "49b465ca",
   "metadata": {},
   "outputs": [
    {
     "name": "stdout",
     "output_type": "stream",
     "text": [
      "682\n"
     ]
    }
   ],
   "source": [
    "print(len(st))"
   ]
  },
  {
   "cell_type": "code",
   "execution_count": 12,
   "id": "620c57f4",
   "metadata": {},
   "outputs": [
    {
     "name": "stdout",
     "output_type": "stream",
     "text": [
      "59\n"
     ]
    }
   ],
   "source": [
    "print(len(c))"
   ]
  },
  {
   "cell_type": "code",
   "execution_count": 13,
   "id": "15036d93",
   "metadata": {},
   "outputs": [
    {
     "name": "stdout",
     "output_type": "stream",
     "text": [
      "{'X', 'l', 'u', '\\n', 'O', 'o', 'v', 'm', 'P', 'j', 'i', '2', 'n', 'd', 'F', '0', 'z', 'y', '4', '-', 'f', 'M', 'x', '.', '·', '1', 'S', 'W', '3', 'K', 'e', '…', 'B', 'L', ':', 'k', '/', 'p', 'E', ',', \"'\", 'I', 'C', '5', 'A', 'w', 'H', 'a', 'h', 't', 'U', 'g', 'b', 's', 'N', ' ', 'r', 'D', 'c'}\n"
     ]
    }
   ],
   "source": [
    "s3=set(st)\n",
    "print(s3)"
   ]
  },
  {
   "cell_type": "code",
   "execution_count": 14,
   "id": "889bc0fa",
   "metadata": {},
   "outputs": [
    {
     "name": "stdout",
     "output_type": "stream",
     "text": [
      "59\n"
     ]
    }
   ],
   "source": [
    "print(len(s3))"
   ]
  },
  {
   "cell_type": "code",
   "execution_count": 15,
   "id": "b199ee2c",
   "metadata": {},
   "outputs": [
    {
     "name": "stdout",
     "output_type": "stream",
     "text": [
      "{'X': 1, 'l': 15, 'u': 9, '\\n': 7, 'O': 4, 'o': 44, 'v': 2, 'm': 9, 'P': 21, 'j': 1, 'i': 42, '2': 18, 'n': 40, 'd': 15, 'F': 4, '0': 14, 'z': 1, 'y': 19, '4': 1, '-': 3, 'f': 10, 'M': 1, 'x': 1, '.': 3, '·': 13, '1': 16, 'S': 5, 'W': 4, '3': 2, 'K': 1, 'e': 41, '…': 1, 'B': 1, 'L': 1, ':': 6, 'k': 2, '/': 1, 'p': 16, 'E': 2, ',': 2, \"'\": 1, 'I': 2, 'C': 11, '5': 1, 'A': 1, 'w': 8, 'H': 5, 'a': 31, 'h': 14, 't': 32, 'U': 1, 'g': 12, 'b': 4, 's': 25, 'N': 1, ' ': 94, 'r': 22, 'D': 2, 'c': 16}\n"
     ]
    }
   ],
   "source": [
    "c={}\n",
    "for char in set(st):\n",
    "    # print(char,end=' ')\n",
    "    c[char]=st.count(char)\n",
    "print(c)"
   ]
  },
  {
   "cell_type": "code",
   "execution_count": 16,
   "id": "c1e898aa",
   "metadata": {},
   "outputs": [
    {
     "name": "stdout",
     "output_type": "stream",
     "text": [
      "['Python', 'is', 'an', 'interpreted', 'high-level', 'general-purpose', 'programming', 'language.', \"Python's\", 'design', 'philosophy', 'emphasizes', 'code', 'readability', 'with', 'its', 'notable', 'use', 'of', 'significant', 'indentation.', 'Its', 'language', 'constructs', 'as', 'well', 'as', 'its', 'object-oriented', 'approach', 'aim', 'to', 'help', '…', 'Wikipedia', 'iconWikipedia', 'Product', 'info:', 'Free', '·', 'Python', 'Software', 'Foundation', 'Platform:', 'Microsoft', 'Windows', 'Official', 'website:', 'python.org', 'Academic', 'conferences:', 'PyHPC', '2013', '·', 'PythonBrasil', '2012', '·', 'PySC', '2011', '·', 'PyHPC', '2015', '·', 'ConFoo', '2012', '·', 'PyHPC', '2014', '·', 'PyHPC', '2012', '·', 'PyCon', 'DE', '2013', '·', 'PyCon', '2012', '·', 'inpycon', '2010', '·', 'ESCO', '2012', '·', 'Kiwi', 'PyCon', '2011', '·', 'PyHPC', '2011', 'Developer:', 'Python', 'Software', 'Foundation', 'Operating', 'systems:', 'Windows,', 'Linux/UNIX,', 'macOS', 'and', 'more']\n"
     ]
    }
   ],
   "source": [
    "sli=st.split()\n",
    "print(sli)"
   ]
  },
  {
   "cell_type": "code",
   "execution_count": 17,
   "id": "98e18eb8",
   "metadata": {},
   "outputs": [
    {
     "name": "stdout",
     "output_type": "stream",
     "text": [
      "102\n"
     ]
    }
   ],
   "source": [
    "print(len(sli))"
   ]
  },
  {
   "cell_type": "code",
   "execution_count": 18,
   "id": "4b780ea1",
   "metadata": {},
   "outputs": [
    {
     "name": "stdout",
     "output_type": "stream",
     "text": [
      "{'readability', 'website:', 'an', 'philosophy', 'of', 'approach', 'is', 'Python', '2013', 'PythonBrasil', 'general-purpose', 'language.', 'notable', 'conferences:', 'Linux/UNIX,', 'PyHPC', 'its', 'macOS', 'Official', '2012', 'to', 'Platform:', \"Python's\", 'design', '·', 'DE', 'Kiwi', '2011', 'Windows', 'Its', 'Free', 'interpreted', 'Wikipedia', 'PySC', 'ESCO', 'Academic', 'PyCon', 'systems:', 'constructs', '…', '2015', '2010', 'and', 'Product', 'Developer:', 'Software', 'well', 'python.org', 'programming', 'significant', 'Operating', 'ConFoo', 'aim', 'iconWikipedia', 'info:', 'help', 'Windows,', 'emphasizes', 'more', 'use', 'language', 'as', 'object-oriented', 'Foundation', 'code', 'indentation.', 'Microsoft', 'with', '2014', 'inpycon', 'high-level'} 71\n"
     ]
    }
   ],
   "source": [
    "ssli=set(sli)\n",
    "print(ssli,len(ssli))"
   ]
  },
  {
   "cell_type": "code",
   "execution_count": 19,
   "id": "a31b9d50",
   "metadata": {},
   "outputs": [
    {
     "name": "stdout",
     "output_type": "stream",
     "text": [
      "71\n"
     ]
    }
   ],
   "source": [
    "print(len(ssli))"
   ]
  },
  {
   "cell_type": "code",
   "execution_count": 20,
   "id": "14010faf",
   "metadata": {},
   "outputs": [
    {
     "name": "stdout",
     "output_type": "stream",
     "text": [
      "['readability', 'website:', 'an', 'philosophy', 'of', 'approach', 'is', 'Python', '2013', 'PythonBrasil', 'general-purpose', 'language.', 'notable', 'conferences:', 'Linux/UNIX,', 'PyHPC', 'its', 'macOS', 'Official', '2012', 'to', 'Platform:', \"Python's\", 'design', '·', 'DE', 'Kiwi', '2011', 'Windows', 'Its', 'Free', 'interpreted', 'Wikipedia', 'PySC', 'ESCO', 'Academic', 'PyCon', 'systems:', 'constructs', '…', '2015', '2010', 'and', 'Product', 'Developer:', 'Software', 'well', 'python.org', 'programming', 'significant', 'Operating', 'ConFoo', 'aim', 'iconWikipedia', 'info:', 'help', 'Windows,', 'emphasizes', 'more', 'use', 'language', 'as', 'object-oriented', 'Foundation', 'code', 'indentation.', 'Microsoft', 'with', '2014', 'inpycon', 'high-level']\n"
     ]
    }
   ],
   "source": [
    "print(list(ssli))"
   ]
  },
  {
   "cell_type": "code",
   "execution_count": 21,
   "id": "91a6114d",
   "metadata": {},
   "outputs": [
    {
     "name": "stdout",
     "output_type": "stream",
     "text": [
      "('readability', 'website:', 'an', 'philosophy', 'of', 'approach', 'is', 'Python', '2013', 'PythonBrasil', 'general-purpose', 'language.', 'notable', 'conferences:', 'Linux/UNIX,', 'PyHPC', 'its', 'macOS', 'Official', '2012', 'to', 'Platform:', \"Python's\", 'design', '·', 'DE', 'Kiwi', '2011', 'Windows', 'Its', 'Free', 'interpreted', 'Wikipedia', 'PySC', 'ESCO', 'Academic', 'PyCon', 'systems:', 'constructs', '…', '2015', '2010', 'and', 'Product', 'Developer:', 'Software', 'well', 'python.org', 'programming', 'significant', 'Operating', 'ConFoo', 'aim', 'iconWikipedia', 'info:', 'help', 'Windows,', 'emphasizes', 'more', 'use', 'language', 'as', 'object-oriented', 'Foundation', 'code', 'indentation.', 'Microsoft', 'with', '2014', 'inpycon', 'high-level')\n"
     ]
    }
   ],
   "source": [
    "print(tuple(ssli))"
   ]
  },
  {
   "cell_type": "code",
   "execution_count": 22,
   "id": "4491da34",
   "metadata": {},
   "outputs": [
    {
     "name": "stdout",
     "output_type": "stream",
     "text": [
      "{'readability', 'website:', 'an', 'philosophy', 'of', 'approach', 'is', 'Python', '2013', 'PythonBrasil', 'general-purpose', 'language.', 'notable', 'conferences:', 'Linux/UNIX,', 'PyHPC', 'its', 'macOS', 'Official', '2012', 'to', 'Platform:', \"Python's\", 'design', '·', 'DE', 'Kiwi', '2011', 'Windows', 'Its', 'Free', 'interpreted', 'Wikipedia', 'PySC', 'ESCO', 'Academic', 'PyCon', 'systems:', 'constructs', '…', '2015', '2010', 'and', 'Product', 'Developer:', 'Software', 'well', 'python.org', 'programming', 'significant', 'Operating', 'ConFoo', 'aim', 'iconWikipedia', 'info:', 'help', 'Windows,', 'emphasizes', 'more', 'use', 'language', 'as', 'object-oriented', 'Foundation', 'code', 'indentation.', 'Microsoft', 'with', '2014', 'inpycon', 'high-level'}\n"
     ]
    }
   ],
   "source": [
    "print(str(ssli))"
   ]
  },
  {
   "cell_type": "markdown",
   "id": "1950e49d",
   "metadata": {},
   "source": [
    "## set methods"
   ]
  },
  {
   "cell_type": "code",
   "execution_count": 23,
   "id": "4d5b1ae7",
   "metadata": {},
   "outputs": [
    {
     "name": "stdout",
     "output_type": "stream",
     "text": [
      "set()\n"
     ]
    }
   ],
   "source": [
    "se=set()\n",
    "print(se)"
   ]
  },
  {
   "cell_type": "code",
   "execution_count": 24,
   "id": "cb07f91c",
   "metadata": {},
   "outputs": [
    {
     "name": "stdout",
     "output_type": "stream",
     "text": [
      "{0.5, 2, 123}\n"
     ]
    }
   ],
   "source": [
    "se.add(123)\n",
    "se.add(2)\n",
    "se.add(0.5)\n",
    "print(se)"
   ]
  },
  {
   "cell_type": "code",
   "execution_count": 25,
   "id": "cd3a9138",
   "metadata": {},
   "outputs": [
    {
     "name": "stdout",
     "output_type": "stream",
     "text": [
      "5656\n"
     ]
    }
   ],
   "source": [
    "se.add(input())"
   ]
  },
  {
   "cell_type": "code",
   "execution_count": 26,
   "id": "c61de2e5",
   "metadata": {},
   "outputs": [
    {
     "name": "stdout",
     "output_type": "stream",
     "text": [
      "{0.5, 2, 123, '5656'}\n"
     ]
    }
   ],
   "source": [
    "print(se)"
   ]
  },
  {
   "cell_type": "code",
   "execution_count": 27,
   "id": "85c4a6db",
   "metadata": {},
   "outputs": [
    {
     "ename": "TypeError",
     "evalue": "unhashable type: 'list'",
     "output_type": "error",
     "traceback": [
      "\u001b[1;31m---------------------------------------------------------------------------\u001b[0m",
      "\u001b[1;31mTypeError\u001b[0m                                 Traceback (most recent call last)",
      "\u001b[1;32m<ipython-input-27-0af350ac80d7>\u001b[0m in \u001b[0;36m<module>\u001b[1;34m\u001b[0m\n\u001b[1;32m----> 1\u001b[1;33m \u001b[0mse\u001b[0m\u001b[1;33m.\u001b[0m\u001b[0madd\u001b[0m\u001b[1;33m(\u001b[0m\u001b[1;33m[\u001b[0m\u001b[1;36m1\u001b[0m\u001b[1;33m,\u001b[0m\u001b[1;36m2\u001b[0m\u001b[1;33m,\u001b[0m\u001b[1;36m3\u001b[0m\u001b[1;33m]\u001b[0m\u001b[1;33m)\u001b[0m\u001b[1;33m\u001b[0m\u001b[1;33m\u001b[0m\u001b[0m\n\u001b[0m\u001b[0;32m      2\u001b[0m \u001b[0mprint\u001b[0m\u001b[1;33m(\u001b[0m\u001b[0mSe\u001b[0m\u001b[1;33m)\u001b[0m\u001b[1;33m\u001b[0m\u001b[1;33m\u001b[0m\u001b[0m\n",
      "\u001b[1;31mTypeError\u001b[0m: unhashable type: 'list'"
     ]
    }
   ],
   "source": [
    "se.add([1,2,3])\n",
    "print(Se)"
   ]
  },
  {
   "cell_type": "code",
   "execution_count": 29,
   "id": "297366c9",
   "metadata": {},
   "outputs": [
    {
     "name": "stdout",
     "output_type": "stream",
     "text": [
      "{0.5, 2, (1, 2, 3), '5656', 123}\n"
     ]
    }
   ],
   "source": [
    "se.add((1,2,3))\n",
    "print(se)"
   ]
  },
  {
   "cell_type": "code",
   "execution_count": 31,
   "id": "02e5b464",
   "metadata": {},
   "outputs": [
    {
     "name": "stdout",
     "output_type": "stream",
     "text": [
      "{0.5, 1, 2, 3, 4, (1, 2, 3), '5656', 123}\n"
     ]
    }
   ],
   "source": [
    "se.update({1,2,3,4,4})\n",
    "print(se)"
   ]
  },
  {
   "cell_type": "code",
   "execution_count": 34,
   "id": "26df4952",
   "metadata": {},
   "outputs": [
    {
     "name": "stdout",
     "output_type": "stream",
     "text": [
      "{0.5, 1, 2, 3, 4, 5, 6, 7, (1, 2, 3), '5656', 123}\n"
     ]
    }
   ],
   "source": [
    "se.update([1,2,3,4,4,5,6,7])\n",
    "print(se)"
   ]
  },
  {
   "cell_type": "code",
   "execution_count": 35,
   "id": "ebd723f1",
   "metadata": {},
   "outputs": [
    {
     "name": "stdout",
     "output_type": "stream",
     "text": [
      "0.5\n",
      "{1, 2, 3, 4, 5, 6, 7, (1, 2, 3), '5656', 123}\n"
     ]
    }
   ],
   "source": [
    "print(se.pop())\n",
    "print(se)   # randomly remove the element"
   ]
  },
  {
   "cell_type": "code",
   "execution_count": 36,
   "id": "8ef9af5d",
   "metadata": {},
   "outputs": [
    {
     "name": "stdout",
     "output_type": "stream",
     "text": [
      "{1, 2, 3, 4, 5, 6, 7, '5656', 123}\n"
     ]
    }
   ],
   "source": [
    "se.remove((1,2,3))\n",
    "print(se)"
   ]
  },
  {
   "cell_type": "code",
   "execution_count": 37,
   "id": "e8fdb3f1",
   "metadata": {},
   "outputs": [
    {
     "name": "stdout",
     "output_type": "stream",
     "text": [
      "{1, 2, 3, 4, 5, 6, 7, 123}\n"
     ]
    }
   ],
   "source": [
    "se.discard('5656')\n",
    "print(se)"
   ]
  },
  {
   "cell_type": "code",
   "execution_count": 38,
   "id": "295cc622",
   "metadata": {},
   "outputs": [
    {
     "name": "stdout",
     "output_type": "stream",
     "text": [
      "None {1, 2, 3, 4, 5, 6, 7, 123}\n"
     ]
    }
   ],
   "source": [
    "x=se.discard('5656')\n",
    "print(x,se)"
   ]
  },
  {
   "cell_type": "code",
   "execution_count": 39,
   "id": "7c18aa62",
   "metadata": {},
   "outputs": [
    {
     "ename": "TypeError",
     "evalue": "'set' object is not subscriptable",
     "output_type": "error",
     "traceback": [
      "\u001b[1;31m---------------------------------------------------------------------------\u001b[0m",
      "\u001b[1;31mTypeError\u001b[0m                                 Traceback (most recent call last)",
      "\u001b[1;32m<ipython-input-39-fb646ecf47b4>\u001b[0m in \u001b[0;36m<module>\u001b[1;34m\u001b[0m\n\u001b[1;32m----> 1\u001b[1;33m \u001b[0mprint\u001b[0m\u001b[1;33m(\u001b[0m\u001b[0mse\u001b[0m\u001b[1;33m[\u001b[0m\u001b[1;36m0\u001b[0m\u001b[1;33m]\u001b[0m\u001b[1;33m)\u001b[0m\u001b[1;33m\u001b[0m\u001b[1;33m\u001b[0m\u001b[0m\n\u001b[0m",
      "\u001b[1;31mTypeError\u001b[0m: 'set' object is not subscriptable"
     ]
    }
   ],
   "source": [
    "print(se[0])"
   ]
  },
  {
   "cell_type": "code",
   "execution_count": 40,
   "id": "d83cc200",
   "metadata": {},
   "outputs": [
    {
     "name": "stdout",
     "output_type": "stream",
     "text": [
      "{1, 2, 3, 4, 5, 6, 7, 123}\n"
     ]
    }
   ],
   "source": [
    "se2=se.copy()\n",
    "print(se2)"
   ]
  },
  {
   "cell_type": "code",
   "execution_count": 41,
   "id": "47940386",
   "metadata": {},
   "outputs": [
    {
     "name": "stdout",
     "output_type": "stream",
     "text": [
      "set()\n"
     ]
    },
    {
     "ename": "NameError",
     "evalue": "name 'delete' is not defined",
     "output_type": "error",
     "traceback": [
      "\u001b[1;31m---------------------------------------------------------------------------\u001b[0m",
      "\u001b[1;31mNameError\u001b[0m                                 Traceback (most recent call last)",
      "\u001b[1;32m<ipython-input-41-a9ec2635ebb0>\u001b[0m in \u001b[0;36m<module>\u001b[1;34m\u001b[0m\n\u001b[0;32m      1\u001b[0m \u001b[0mse2\u001b[0m\u001b[1;33m.\u001b[0m\u001b[0mclear\u001b[0m\u001b[1;33m(\u001b[0m\u001b[1;33m)\u001b[0m\u001b[1;33m\u001b[0m\u001b[1;33m\u001b[0m\u001b[0m\n\u001b[0;32m      2\u001b[0m \u001b[0mprint\u001b[0m\u001b[1;33m(\u001b[0m\u001b[0mse2\u001b[0m\u001b[1;33m)\u001b[0m\u001b[1;33m\u001b[0m\u001b[1;33m\u001b[0m\u001b[0m\n\u001b[1;32m----> 3\u001b[1;33m \u001b[0mdelete\u001b[0m\u001b[1;33m(\u001b[0m\u001b[0mse2\u001b[0m\u001b[1;33m)\u001b[0m\u001b[1;33m\u001b[0m\u001b[1;33m\u001b[0m\u001b[0m\n\u001b[0m\u001b[0;32m      4\u001b[0m \u001b[0mprint\u001b[0m\u001b[1;33m(\u001b[0m\u001b[0mse2\u001b[0m\u001b[1;33m)\u001b[0m\u001b[1;33m\u001b[0m\u001b[1;33m\u001b[0m\u001b[0m\n",
      "\u001b[1;31mNameError\u001b[0m: name 'delete' is not defined"
     ]
    }
   ],
   "source": [
    "se2.clear()\n",
    "print(se2)\n",
    "delete(se2)\n",
    "print(se2)"
   ]
  },
  {
   "cell_type": "markdown",
   "id": "3f51d883",
   "metadata": {},
   "source": [
    "## math sets\n",
    "\n",
    "- union\n",
    "- intersection"
   ]
  },
  {
   "cell_type": "code",
   "execution_count": 42,
   "id": "5ca9abad",
   "metadata": {},
   "outputs": [
    {
     "name": "stdout",
     "output_type": "stream",
     "text": [
      "{1, 2, 3, 4, 5, 6, 7, 8, 9}\n"
     ]
    }
   ],
   "source": [
    "s1={1,2,3,4,5,6}\n",
    "s2={4,5,6,7,8,9}\n",
    "print(s1.union(s2))"
   ]
  },
  {
   "cell_type": "code",
   "execution_count": 43,
   "id": "b7d0966d",
   "metadata": {},
   "outputs": [
    {
     "name": "stdout",
     "output_type": "stream",
     "text": [
      "{1, 2, 3, 4, 5, 6, 7, 8, 9}\n"
     ]
    }
   ],
   "source": [
    "print(s1 | s2)"
   ]
  },
  {
   "cell_type": "code",
   "execution_count": 44,
   "id": "4eb78320",
   "metadata": {},
   "outputs": [
    {
     "name": "stdout",
     "output_type": "stream",
     "text": [
      "{4, 5, 6}\n"
     ]
    }
   ],
   "source": [
    "s1={1,2,3,4,5,6}\n",
    "s2={4,5,6,7,8,9}\n",
    "print(s1.intersection(s2))"
   ]
  },
  {
   "cell_type": "code",
   "execution_count": 45,
   "id": "059cb33a",
   "metadata": {},
   "outputs": [
    {
     "name": "stdout",
     "output_type": "stream",
     "text": [
      "{4, 5, 6}\n"
     ]
    }
   ],
   "source": [
    "print(s1 & s2)"
   ]
  },
  {
   "cell_type": "code",
   "execution_count": 46,
   "id": "b1b11ab2",
   "metadata": {},
   "outputs": [
    {
     "name": "stdout",
     "output_type": "stream",
     "text": [
      "{1, 2, 3}\n"
     ]
    }
   ],
   "source": [
    "print(s1.difference(s2))"
   ]
  },
  {
   "cell_type": "code",
   "execution_count": 47,
   "id": "3535a3ed",
   "metadata": {},
   "outputs": [
    {
     "name": "stdout",
     "output_type": "stream",
     "text": [
      "{8, 9, 7}\n"
     ]
    }
   ],
   "source": [
    "print(s2-s1)"
   ]
  },
  {
   "cell_type": "code",
   "execution_count": 48,
   "id": "d4344990",
   "metadata": {},
   "outputs": [
    {
     "name": "stdout",
     "output_type": "stream",
     "text": [
      "{1, 2, 3, 7, 8, 9}\n"
     ]
    }
   ],
   "source": [
    "print(s1.symmetric_difference(s2))"
   ]
  },
  {
   "cell_type": "code",
   "execution_count": 49,
   "id": "74782815",
   "metadata": {},
   "outputs": [
    {
     "name": "stdout",
     "output_type": "stream",
     "text": [
      "{1, 2, 3, 7, 8, 9}\n"
     ]
    }
   ],
   "source": [
    "print(s1^s2)"
   ]
  },
  {
   "cell_type": "code",
   "execution_count": 51,
   "id": "8d0b28a9",
   "metadata": {},
   "outputs": [
    {
     "name": "stdout",
     "output_type": "stream",
     "text": [
      "None\n",
      "{1, 2, 3, 5, 4, 6}\n"
     ]
    }
   ],
   "source": [
    "print(s1.symmetric_difference_update(s2))\n",
    "print(s1)"
   ]
  },
  {
   "cell_type": "code",
   "execution_count": 52,
   "id": "72eab970",
   "metadata": {},
   "outputs": [
    {
     "name": "stdout",
     "output_type": "stream",
     "text": [
      "None\n",
      "{1, 2, 3}\n"
     ]
    }
   ],
   "source": [
    "print(s1.difference_update(s2))\n",
    "print(s1)"
   ]
  },
  {
   "cell_type": "markdown",
   "id": "ee82c6f0",
   "metadata": {},
   "source": [
    "## functions\n",
    "- built in functions-> print(),input(),sum(),max(),type(),id(),range(),sorted(),reversed()\n",
    "- user defined functions\n",
    "\n",
    "set of insruction given by the user to perform a task.\n",
    "\n",
    "- reusable code to perform single related action\n",
    "- it reduces the lines of code\n",
    "- reduces time complexity,memory"
   ]
  },
  {
   "cell_type": "code",
   "execution_count": 53,
   "id": "3aecf867",
   "metadata": {},
   "outputs": [
    {
     "name": "stdout",
     "output_type": "stream",
     "text": [
      "5\n"
     ]
    }
   ],
   "source": [
    "print(abs(-5))"
   ]
  },
  {
   "cell_type": "code",
   "execution_count": 54,
   "id": "c5dbae9b",
   "metadata": {},
   "outputs": [
    {
     "name": "stdout",
     "output_type": "stream",
     "text": [
      "True False\n"
     ]
    }
   ],
   "source": [
    "li=[1,2,3,4,5,6]\n",
    "li2=[1,2,3,4,5,6,0]\n",
    "print(all(li),all(li2))"
   ]
  },
  {
   "cell_type": "code",
   "execution_count": 55,
   "id": "56adb0c0",
   "metadata": {},
   "outputs": [
    {
     "name": "stdout",
     "output_type": "stream",
     "text": [
      "True False\n"
     ]
    }
   ],
   "source": [
    "li=[1,2,3,4,5,6,'0']\n",
    "li2=[1,2,3,4,5,6,0]\n",
    "print(all(li),all(li2))"
   ]
  },
  {
   "cell_type": "code",
   "execution_count": 56,
   "id": "8a703026",
   "metadata": {},
   "outputs": [
    {
     "name": "stdout",
     "output_type": "stream",
     "text": [
      "True True False\n"
     ]
    }
   ],
   "source": [
    "li=[1,2,3,4,5]\n",
    "li2=[0,0,0,0,0,0,0,1]\n",
    "li3=[0,0,0,0,0]\n",
    "print(any(li),any(li2),any(li3))"
   ]
  },
  {
   "cell_type": "code",
   "execution_count": 57,
   "id": "0c916dc9",
   "metadata": {},
   "outputs": [
    {
     "name": "stdout",
     "output_type": "stream",
     "text": [
      "False\n"
     ]
    }
   ],
   "source": [
    "print(all([1,2,3,'']))"
   ]
  },
  {
   "cell_type": "code",
   "execution_count": 58,
   "id": "40d91a52",
   "metadata": {},
   "outputs": [
    {
     "name": "stdout",
     "output_type": "stream",
     "text": [
      "True\n"
     ]
    }
   ],
   "source": [
    "print(bool([1,2]))"
   ]
  },
  {
   "cell_type": "code",
   "execution_count": 59,
   "id": "0bd0feb8",
   "metadata": {},
   "outputs": [
    {
     "name": "stdout",
     "output_type": "stream",
     "text": [
      "Help on class str in module builtins:\n",
      "\n",
      "class str(object)\n",
      " |  str(object='') -> str\n",
      " |  str(bytes_or_buffer[, encoding[, errors]]) -> str\n",
      " |  \n",
      " |  Create a new string object from the given object. If encoding or\n",
      " |  errors is specified, then the object must expose a data buffer\n",
      " |  that will be decoded using the given encoding and error handler.\n",
      " |  Otherwise, returns the result of object.__str__() (if defined)\n",
      " |  or repr(object).\n",
      " |  encoding defaults to sys.getdefaultencoding().\n",
      " |  errors defaults to 'strict'.\n",
      " |  \n",
      " |  Methods defined here:\n",
      " |  \n",
      " |  __add__(self, value, /)\n",
      " |      Return self+value.\n",
      " |  \n",
      " |  __contains__(self, key, /)\n",
      " |      Return key in self.\n",
      " |  \n",
      " |  __eq__(self, value, /)\n",
      " |      Return self==value.\n",
      " |  \n",
      " |  __format__(self, format_spec, /)\n",
      " |      Return a formatted version of the string as described by format_spec.\n",
      " |  \n",
      " |  __ge__(self, value, /)\n",
      " |      Return self>=value.\n",
      " |  \n",
      " |  __getattribute__(self, name, /)\n",
      " |      Return getattr(self, name).\n",
      " |  \n",
      " |  __getitem__(self, key, /)\n",
      " |      Return self[key].\n",
      " |  \n",
      " |  __getnewargs__(...)\n",
      " |  \n",
      " |  __gt__(self, value, /)\n",
      " |      Return self>value.\n",
      " |  \n",
      " |  __hash__(self, /)\n",
      " |      Return hash(self).\n",
      " |  \n",
      " |  __iter__(self, /)\n",
      " |      Implement iter(self).\n",
      " |  \n",
      " |  __le__(self, value, /)\n",
      " |      Return self<=value.\n",
      " |  \n",
      " |  __len__(self, /)\n",
      " |      Return len(self).\n",
      " |  \n",
      " |  __lt__(self, value, /)\n",
      " |      Return self<value.\n",
      " |  \n",
      " |  __mod__(self, value, /)\n",
      " |      Return self%value.\n",
      " |  \n",
      " |  __mul__(self, value, /)\n",
      " |      Return self*value.\n",
      " |  \n",
      " |  __ne__(self, value, /)\n",
      " |      Return self!=value.\n",
      " |  \n",
      " |  __repr__(self, /)\n",
      " |      Return repr(self).\n",
      " |  \n",
      " |  __rmod__(self, value, /)\n",
      " |      Return value%self.\n",
      " |  \n",
      " |  __rmul__(self, value, /)\n",
      " |      Return value*self.\n",
      " |  \n",
      " |  __sizeof__(self, /)\n",
      " |      Return the size of the string in memory, in bytes.\n",
      " |  \n",
      " |  __str__(self, /)\n",
      " |      Return str(self).\n",
      " |  \n",
      " |  capitalize(self, /)\n",
      " |      Return a capitalized version of the string.\n",
      " |      \n",
      " |      More specifically, make the first character have upper case and the rest lower\n",
      " |      case.\n",
      " |  \n",
      " |  casefold(self, /)\n",
      " |      Return a version of the string suitable for caseless comparisons.\n",
      " |  \n",
      " |  center(self, width, fillchar=' ', /)\n",
      " |      Return a centered string of length width.\n",
      " |      \n",
      " |      Padding is done using the specified fill character (default is a space).\n",
      " |  \n",
      " |  count(...)\n",
      " |      S.count(sub[, start[, end]]) -> int\n",
      " |      \n",
      " |      Return the number of non-overlapping occurrences of substring sub in\n",
      " |      string S[start:end].  Optional arguments start and end are\n",
      " |      interpreted as in slice notation.\n",
      " |  \n",
      " |  encode(self, /, encoding='utf-8', errors='strict')\n",
      " |      Encode the string using the codec registered for encoding.\n",
      " |      \n",
      " |      encoding\n",
      " |        The encoding in which to encode the string.\n",
      " |      errors\n",
      " |        The error handling scheme to use for encoding errors.\n",
      " |        The default is 'strict' meaning that encoding errors raise a\n",
      " |        UnicodeEncodeError.  Other possible values are 'ignore', 'replace' and\n",
      " |        'xmlcharrefreplace' as well as any other name registered with\n",
      " |        codecs.register_error that can handle UnicodeEncodeErrors.\n",
      " |  \n",
      " |  endswith(...)\n",
      " |      S.endswith(suffix[, start[, end]]) -> bool\n",
      " |      \n",
      " |      Return True if S ends with the specified suffix, False otherwise.\n",
      " |      With optional start, test S beginning at that position.\n",
      " |      With optional end, stop comparing S at that position.\n",
      " |      suffix can also be a tuple of strings to try.\n",
      " |  \n",
      " |  expandtabs(self, /, tabsize=8)\n",
      " |      Return a copy where all tab characters are expanded using spaces.\n",
      " |      \n",
      " |      If tabsize is not given, a tab size of 8 characters is assumed.\n",
      " |  \n",
      " |  find(...)\n",
      " |      S.find(sub[, start[, end]]) -> int\n",
      " |      \n",
      " |      Return the lowest index in S where substring sub is found,\n",
      " |      such that sub is contained within S[start:end].  Optional\n",
      " |      arguments start and end are interpreted as in slice notation.\n",
      " |      \n",
      " |      Return -1 on failure.\n",
      " |  \n",
      " |  format(...)\n",
      " |      S.format(*args, **kwargs) -> str\n",
      " |      \n",
      " |      Return a formatted version of S, using substitutions from args and kwargs.\n",
      " |      The substitutions are identified by braces ('{' and '}').\n",
      " |  \n",
      " |  format_map(...)\n",
      " |      S.format_map(mapping) -> str\n",
      " |      \n",
      " |      Return a formatted version of S, using substitutions from mapping.\n",
      " |      The substitutions are identified by braces ('{' and '}').\n",
      " |  \n",
      " |  index(...)\n",
      " |      S.index(sub[, start[, end]]) -> int\n",
      " |      \n",
      " |      Return the lowest index in S where substring sub is found,\n",
      " |      such that sub is contained within S[start:end].  Optional\n",
      " |      arguments start and end are interpreted as in slice notation.\n",
      " |      \n",
      " |      Raises ValueError when the substring is not found.\n",
      " |  \n",
      " |  isalnum(self, /)\n",
      " |      Return True if the string is an alpha-numeric string, False otherwise.\n",
      " |      \n",
      " |      A string is alpha-numeric if all characters in the string are alpha-numeric and\n",
      " |      there is at least one character in the string.\n",
      " |  \n",
      " |  isalpha(self, /)\n",
      " |      Return True if the string is an alphabetic string, False otherwise.\n",
      " |      \n",
      " |      A string is alphabetic if all characters in the string are alphabetic and there\n",
      " |      is at least one character in the string.\n",
      " |  \n",
      " |  isascii(self, /)\n",
      " |      Return True if all characters in the string are ASCII, False otherwise.\n",
      " |      \n",
      " |      ASCII characters have code points in the range U+0000-U+007F.\n",
      " |      Empty string is ASCII too.\n",
      " |  \n",
      " |  isdecimal(self, /)\n",
      " |      Return True if the string is a decimal string, False otherwise.\n",
      " |      \n",
      " |      A string is a decimal string if all characters in the string are decimal and\n",
      " |      there is at least one character in the string.\n",
      " |  \n",
      " |  isdigit(self, /)\n",
      " |      Return True if the string is a digit string, False otherwise.\n",
      " |      \n",
      " |      A string is a digit string if all characters in the string are digits and there\n",
      " |      is at least one character in the string.\n",
      " |  \n",
      " |  isidentifier(self, /)\n",
      " |      Return True if the string is a valid Python identifier, False otherwise.\n",
      " |      \n",
      " |      Call keyword.iskeyword(s) to test whether string s is a reserved identifier,\n",
      " |      such as \"def\" or \"class\".\n",
      " |  \n",
      " |  islower(self, /)\n",
      " |      Return True if the string is a lowercase string, False otherwise.\n",
      " |      \n",
      " |      A string is lowercase if all cased characters in the string are lowercase and\n",
      " |      there is at least one cased character in the string.\n",
      " |  \n",
      " |  isnumeric(self, /)\n",
      " |      Return True if the string is a numeric string, False otherwise.\n",
      " |      \n",
      " |      A string is numeric if all characters in the string are numeric and there is at\n",
      " |      least one character in the string.\n",
      " |  \n",
      " |  isprintable(self, /)\n",
      " |      Return True if the string is printable, False otherwise.\n",
      " |      \n",
      " |      A string is printable if all of its characters are considered printable in\n",
      " |      repr() or if it is empty.\n",
      " |  \n",
      " |  isspace(self, /)\n",
      " |      Return True if the string is a whitespace string, False otherwise.\n",
      " |      \n",
      " |      A string is whitespace if all characters in the string are whitespace and there\n",
      " |      is at least one character in the string.\n",
      " |  \n",
      " |  istitle(self, /)\n",
      " |      Return True if the string is a title-cased string, False otherwise.\n",
      " |      \n",
      " |      In a title-cased string, upper- and title-case characters may only\n",
      " |      follow uncased characters and lowercase characters only cased ones.\n",
      " |  \n",
      " |  isupper(self, /)\n",
      " |      Return True if the string is an uppercase string, False otherwise.\n",
      " |      \n",
      " |      A string is uppercase if all cased characters in the string are uppercase and\n",
      " |      there is at least one cased character in the string.\n",
      " |  \n",
      " |  join(self, iterable, /)\n",
      " |      Concatenate any number of strings.\n",
      " |      \n",
      " |      The string whose method is called is inserted in between each given string.\n",
      " |      The result is returned as a new string.\n",
      " |      \n",
      " |      Example: '.'.join(['ab', 'pq', 'rs']) -> 'ab.pq.rs'\n",
      " |  \n",
      " |  ljust(self, width, fillchar=' ', /)\n",
      " |      Return a left-justified string of length width.\n",
      " |      \n",
      " |      Padding is done using the specified fill character (default is a space).\n",
      " |  \n",
      " |  lower(self, /)\n",
      " |      Return a copy of the string converted to lowercase.\n",
      " |  \n",
      " |  lstrip(self, chars=None, /)\n",
      " |      Return a copy of the string with leading whitespace removed.\n",
      " |      \n",
      " |      If chars is given and not None, remove characters in chars instead.\n",
      " |  \n",
      " |  partition(self, sep, /)\n",
      " |      Partition the string into three parts using the given separator.\n",
      " |      \n",
      " |      This will search for the separator in the string.  If the separator is found,\n",
      " |      returns a 3-tuple containing the part before the separator, the separator\n",
      " |      itself, and the part after it.\n",
      " |      \n",
      " |      If the separator is not found, returns a 3-tuple containing the original string\n",
      " |      and two empty strings.\n",
      " |  \n",
      " |  replace(self, old, new, count=-1, /)\n",
      " |      Return a copy with all occurrences of substring old replaced by new.\n",
      " |      \n",
      " |        count\n",
      " |          Maximum number of occurrences to replace.\n",
      " |          -1 (the default value) means replace all occurrences.\n",
      " |      \n",
      " |      If the optional argument count is given, only the first count occurrences are\n",
      " |      replaced.\n",
      " |  \n",
      " |  rfind(...)\n",
      " |      S.rfind(sub[, start[, end]]) -> int\n",
      " |      \n",
      " |      Return the highest index in S where substring sub is found,\n",
      " |      such that sub is contained within S[start:end].  Optional\n",
      " |      arguments start and end are interpreted as in slice notation.\n",
      " |      \n",
      " |      Return -1 on failure.\n",
      " |  \n",
      " |  rindex(...)\n",
      " |      S.rindex(sub[, start[, end]]) -> int\n",
      " |      \n",
      " |      Return the highest index in S where substring sub is found,\n",
      " |      such that sub is contained within S[start:end].  Optional\n",
      " |      arguments start and end are interpreted as in slice notation.\n",
      " |      \n",
      " |      Raises ValueError when the substring is not found.\n",
      " |  \n",
      " |  rjust(self, width, fillchar=' ', /)\n",
      " |      Return a right-justified string of length width.\n",
      " |      \n",
      " |      Padding is done using the specified fill character (default is a space).\n",
      " |  \n",
      " |  rpartition(self, sep, /)\n",
      " |      Partition the string into three parts using the given separator.\n",
      " |      \n",
      " |      This will search for the separator in the string, starting at the end. If\n",
      " |      the separator is found, returns a 3-tuple containing the part before the\n",
      " |      separator, the separator itself, and the part after it.\n",
      " |      \n",
      " |      If the separator is not found, returns a 3-tuple containing two empty strings\n",
      " |      and the original string.\n",
      " |  \n",
      " |  rsplit(self, /, sep=None, maxsplit=-1)\n",
      " |      Return a list of the words in the string, using sep as the delimiter string.\n",
      " |      \n",
      " |        sep\n",
      " |          The delimiter according which to split the string.\n",
      " |          None (the default value) means split according to any whitespace,\n",
      " |          and discard empty strings from the result.\n",
      " |        maxsplit\n",
      " |          Maximum number of splits to do.\n",
      " |          -1 (the default value) means no limit.\n",
      " |      \n",
      " |      Splits are done starting at the end of the string and working to the front.\n",
      " |  \n",
      " |  rstrip(self, chars=None, /)\n",
      " |      Return a copy of the string with trailing whitespace removed.\n",
      " |      \n",
      " |      If chars is given and not None, remove characters in chars instead.\n",
      " |  \n",
      " |  split(self, /, sep=None, maxsplit=-1)\n",
      " |      Return a list of the words in the string, using sep as the delimiter string.\n",
      " |      \n",
      " |      sep\n",
      " |        The delimiter according which to split the string.\n",
      " |        None (the default value) means split according to any whitespace,\n",
      " |        and discard empty strings from the result.\n",
      " |      maxsplit\n",
      " |        Maximum number of splits to do.\n",
      " |        -1 (the default value) means no limit.\n",
      " |  \n",
      " |  splitlines(self, /, keepends=False)\n",
      " |      Return a list of the lines in the string, breaking at line boundaries.\n",
      " |      \n",
      " |      Line breaks are not included in the resulting list unless keepends is given and\n",
      " |      true.\n",
      " |  \n",
      " |  startswith(...)\n",
      " |      S.startswith(prefix[, start[, end]]) -> bool\n",
      " |      \n",
      " |      Return True if S starts with the specified prefix, False otherwise.\n",
      " |      With optional start, test S beginning at that position.\n",
      " |      With optional end, stop comparing S at that position.\n",
      " |      prefix can also be a tuple of strings to try.\n",
      " |  \n",
      " |  strip(self, chars=None, /)\n",
      " |      Return a copy of the string with leading and trailing whitespace removed.\n",
      " |      \n",
      " |      If chars is given and not None, remove characters in chars instead.\n",
      " |  \n",
      " |  swapcase(self, /)\n",
      " |      Convert uppercase characters to lowercase and lowercase characters to uppercase.\n",
      " |  \n",
      " |  title(self, /)\n",
      " |      Return a version of the string where each word is titlecased.\n",
      " |      \n",
      " |      More specifically, words start with uppercased characters and all remaining\n",
      " |      cased characters have lower case.\n",
      " |  \n",
      " |  translate(self, table, /)\n",
      " |      Replace each character in the string using the given translation table.\n",
      " |      \n",
      " |        table\n",
      " |          Translation table, which must be a mapping of Unicode ordinals to\n",
      " |          Unicode ordinals, strings, or None.\n",
      " |      \n",
      " |      The table must implement lookup/indexing via __getitem__, for instance a\n",
      " |      dictionary or list.  If this operation raises LookupError, the character is\n",
      " |      left untouched.  Characters mapped to None are deleted.\n",
      " |  \n",
      " |  upper(self, /)\n",
      " |      Return a copy of the string converted to uppercase.\n",
      " |  \n",
      " |  zfill(self, width, /)\n",
      " |      Pad a numeric string with zeros on the left, to fill a field of the given width.\n",
      " |      \n",
      " |      The string is never truncated.\n",
      " |  \n",
      " |  ----------------------------------------------------------------------\n",
      " |  Static methods defined here:\n",
      " |  \n",
      " |  __new__(*args, **kwargs) from builtins.type\n",
      " |      Create and return a new object.  See help(type) for accurate signature.\n",
      " |  \n",
      " |  maketrans(...)\n",
      " |      Return a translation table usable for str.translate().\n",
      " |      \n",
      " |      If there is only one argument, it must be a dictionary mapping Unicode\n",
      " |      ordinals (integers) or characters to Unicode ordinals, strings or None.\n",
      " |      Character keys will be then converted to ordinals.\n",
      " |      If there are two arguments, they must be strings of equal length, and\n",
      " |      in the resulting dictionary, each character in x will be mapped to the\n",
      " |      character at the same position in y. If there is a third argument, it\n",
      " |      must be a string, whose characters will be mapped to None in the result.\n",
      "\n"
     ]
    }
   ],
   "source": [
    "help(str)"
   ]
  },
  {
   "cell_type": "code",
   "execution_count": 60,
   "id": "e38adb73",
   "metadata": {},
   "outputs": [
    {
     "data": {
      "text/plain": [
       "['__add__',\n",
       " '__class__',\n",
       " '__contains__',\n",
       " '__delattr__',\n",
       " '__delitem__',\n",
       " '__dir__',\n",
       " '__doc__',\n",
       " '__eq__',\n",
       " '__format__',\n",
       " '__ge__',\n",
       " '__getattribute__',\n",
       " '__getitem__',\n",
       " '__gt__',\n",
       " '__hash__',\n",
       " '__iadd__',\n",
       " '__imul__',\n",
       " '__init__',\n",
       " '__init_subclass__',\n",
       " '__iter__',\n",
       " '__le__',\n",
       " '__len__',\n",
       " '__lt__',\n",
       " '__mul__',\n",
       " '__ne__',\n",
       " '__new__',\n",
       " '__reduce__',\n",
       " '__reduce_ex__',\n",
       " '__repr__',\n",
       " '__reversed__',\n",
       " '__rmul__',\n",
       " '__setattr__',\n",
       " '__setitem__',\n",
       " '__sizeof__',\n",
       " '__str__',\n",
       " '__subclasshook__',\n",
       " 'append',\n",
       " 'clear',\n",
       " 'copy',\n",
       " 'count',\n",
       " 'extend',\n",
       " 'index',\n",
       " 'insert',\n",
       " 'pop',\n",
       " 'remove',\n",
       " 'reverse',\n",
       " 'sort']"
      ]
     },
     "execution_count": 60,
     "metadata": {},
     "output_type": "execute_result"
    }
   ],
   "source": [
    "dir(list)"
   ]
  },
  {
   "cell_type": "code",
   "execution_count": 61,
   "id": "d511c788",
   "metadata": {},
   "outputs": [
    {
     "name": "stdout",
     "output_type": "stream",
     "text": [
      "str(object='') -> str\n",
      "str(bytes_or_buffer[, encoding[, errors]]) -> str\n",
      "\n",
      "Create a new string object from the given object. If encoding or\n",
      "errors is specified, then the object must expose a data buffer\n",
      "that will be decoded using the given encoding and error handler.\n",
      "Otherwise, returns the result of object.__str__() (if defined)\n",
      "or repr(object).\n",
      "encoding defaults to sys.getdefaultencoding().\n",
      "errors defaults to 'strict'.\n"
     ]
    }
   ],
   "source": [
    "print(str.__doc__)"
   ]
  },
  {
   "cell_type": "code",
   "execution_count": 62,
   "id": "9eaeae70",
   "metadata": {},
   "outputs": [
    {
     "name": "stdout",
     "output_type": "stream",
     "text": [
      "S.count(sub[, start[, end]]) -> int\n",
      "\n",
      "Return the number of non-overlapping occurrences of substring sub in\n",
      "string S[start:end].  Optional arguments start and end are\n",
      "interpreted as in slice notation.\n"
     ]
    }
   ],
   "source": [
    "print(str.count.__doc__)"
   ]
  },
  {
   "cell_type": "code",
   "execution_count": 64,
   "id": "95f1af45",
   "metadata": {},
   "outputs": [
    {
     "name": "stdout",
     "output_type": "stream",
     "text": [
      "<zip object at 0x000001D50CE43940>\n"
     ]
    }
   ],
   "source": [
    "li1=[1,2,3,4]\n",
    "li2=[5,6,7,8]\n",
    "li3=zip(li1,li2)\n",
    "print(li3)"
   ]
  },
  {
   "cell_type": "code",
   "execution_count": 65,
   "id": "ccd5f0af",
   "metadata": {},
   "outputs": [
    {
     "name": "stdout",
     "output_type": "stream",
     "text": [
      "[(1, 5), (2, 6), (3, 7), (4, 8)]\n"
     ]
    }
   ],
   "source": [
    "li3=list(li3)\n",
    "print(li3)"
   ]
  },
  {
   "cell_type": "code",
   "execution_count": 66,
   "id": "a9623419",
   "metadata": {},
   "outputs": [
    {
     "name": "stdout",
     "output_type": "stream",
     "text": [
      "<enumerate object at 0x000001D50CE5C180>\n"
     ]
    }
   ],
   "source": [
    "print(enumerate(li))"
   ]
  },
  {
   "cell_type": "code",
   "execution_count": 67,
   "id": "15eb7e5a",
   "metadata": {},
   "outputs": [
    {
     "name": "stdout",
     "output_type": "stream",
     "text": [
      "[(0, 1), (1, 2), (2, 3), (3, 4)]\n"
     ]
    }
   ],
   "source": [
    "en=list(enumerate(li))\n",
    "print(en)"
   ]
  },
  {
   "cell_type": "markdown",
   "id": "cfd26eaa",
   "metadata": {},
   "source": [
    "## built-in functions\n",
    "\n",
    "### syntax\n",
    "\n",
    "```python\n",
    "\n",
    "def function_name(arg1,arg2,arg3.....):  # arg are optional\n",
    "    \"\"\" document for function\"\"\"    # optional\n",
    "    block of code\n",
    "    return return   # return is optional\n",
    "```\n",
    "\n",
    "\n",
    "### type of functions\n",
    "\n",
    "1. based on arguments\n",
    "   1. posional argument/required argument\n",
    "   2. default argument\n",
    "   3. keyword argument\n",
    "   4. variable length keyword arguments\n",
    "2. based on the return and arguments\n",
    "   1. with arg with return\n",
    "   2. without arg with return\n",
    "   3. with arg without reurn\n",
    "   4. witout arg without return\n",
    "3. call by value\n",
    "4. call by reference\n",
    "5. recursive functions"
   ]
  },
  {
   "cell_type": "code",
   "execution_count": 69,
   "id": "19bf86b2",
   "metadata": {},
   "outputs": [],
   "source": [
    "# with arg with return\n",
    "def addition(a,b):\n",
    "    print(a)\n",
    "    print(b)\n",
    "    return a+b"
   ]
  },
  {
   "cell_type": "code",
   "execution_count": 70,
   "id": "0941be41",
   "metadata": {},
   "outputs": [
    {
     "name": "stdout",
     "output_type": "stream",
     "text": [
      "15\n",
      "20\n"
     ]
    },
    {
     "data": {
      "text/plain": [
       "35"
      ]
     },
     "execution_count": 70,
     "metadata": {},
     "output_type": "execute_result"
    }
   ],
   "source": [
    "addition(15,20) # functioon calling"
   ]
  },
  {
   "cell_type": "code",
   "execution_count": 71,
   "id": "2fbd7596",
   "metadata": {},
   "outputs": [
    {
     "data": {
      "text/plain": [
       "'good evening'"
      ]
     },
     "execution_count": 71,
     "metadata": {},
     "output_type": "execute_result"
    }
   ],
   "source": [
    "def greet():\n",
    "    return \"good evening\"\n",
    "greet()"
   ]
  },
  {
   "cell_type": "code",
   "execution_count": 77,
   "id": "20c0b8ae",
   "metadata": {},
   "outputs": [
    {
     "name": "stdout",
     "output_type": "stream",
     "text": [
      "15\n",
      "53\n",
      "68\n"
     ]
    }
   ],
   "source": [
    "# with arg without return\n",
    "def addition(a,b):\n",
    "    print(a)\n",
    "    print(b)\n",
    "    print(a+b)\n",
    "addition(15,53)"
   ]
  },
  {
   "cell_type": "code",
   "execution_count": 76,
   "id": "7f402b03",
   "metadata": {},
   "outputs": [
    {
     "name": "stdout",
     "output_type": "stream",
     "text": [
      "25\n",
      "36\n",
      "121\n"
     ]
    }
   ],
   "source": [
    "def square(a):\n",
    "    print(a**2)\n",
    "    return a**2\n",
    "# (5+6)\n",
    "print(square(5)+square(6)+2*5*6)"
   ]
  },
  {
   "cell_type": "code",
   "execution_count": 78,
   "id": "9b4de44c",
   "metadata": {},
   "outputs": [],
   "source": [
    "def greet():\n",
    "    print(\"good evening\")"
   ]
  },
  {
   "cell_type": "code",
   "execution_count": 79,
   "id": "8e567787",
   "metadata": {},
   "outputs": [
    {
     "name": "stdout",
     "output_type": "stream",
     "text": [
      "good evening\n"
     ]
    }
   ],
   "source": [
    "greet()"
   ]
  },
  {
   "cell_type": "markdown",
   "id": "a68faaa7",
   "metadata": {},
   "source": [
    "## required arguments"
   ]
  },
  {
   "cell_type": "code",
   "execution_count": 80,
   "id": "eeefa6d5",
   "metadata": {},
   "outputs": [],
   "source": [
    "def addition(a,b):\n",
    "    \"\"\"this function takes two args and return addition of two args\"\"\"\n",
    "    print(a)\n",
    "    print(b)\n",
    "    print(a+b)"
   ]
  },
  {
   "cell_type": "code",
   "execution_count": 81,
   "id": "0ec748d3",
   "metadata": {},
   "outputs": [
    {
     "data": {
      "text/plain": [
       "'this function takes two args and return addition of two args'"
      ]
     },
     "execution_count": 81,
     "metadata": {},
     "output_type": "execute_result"
    }
   ],
   "source": [
    "addition.__doc__"
   ]
  },
  {
   "cell_type": "code",
   "execution_count": 82,
   "id": "58fb002d",
   "metadata": {},
   "outputs": [
    {
     "name": "stdout",
     "output_type": "stream",
     "text": [
      "5\n",
      "5\n",
      "10\n"
     ]
    }
   ],
   "source": [
    "addition(5,5)"
   ]
  },
  {
   "cell_type": "code",
   "execution_count": 85,
   "id": "a1afc08d",
   "metadata": {},
   "outputs": [],
   "source": [
    "def addition(a,b):\n",
    "    return a+b,b+a,a**b\n",
    "    print(a+b)\n",
    "    print(a,b)\n",
    "add=addition(5,5)"
   ]
  },
  {
   "cell_type": "code",
   "execution_count": 86,
   "id": "39ecfaf2",
   "metadata": {},
   "outputs": [
    {
     "name": "stdout",
     "output_type": "stream",
     "text": [
      "(10, 10, 3125)\n"
     ]
    }
   ],
   "source": [
    "print(add)"
   ]
  },
  {
   "cell_type": "code",
   "execution_count": 87,
   "id": "a3c1b601",
   "metadata": {},
   "outputs": [
    {
     "name": "stdout",
     "output_type": "stream",
     "text": [
      "10 10 3125\n",
      "10\n",
      "5 5\n"
     ]
    }
   ],
   "source": [
    "def addition(a,b):\n",
    "    print(a+b,b+a,a**b)\n",
    "    print(a+b)\n",
    "    print(a,b)\n",
    "add=addition(5,5)"
   ]
  },
  {
   "cell_type": "code",
   "execution_count": 88,
   "id": "573ff735",
   "metadata": {},
   "outputs": [
    {
     "ename": "TypeError",
     "evalue": "range expected 1 argument, got 0",
     "output_type": "error",
     "traceback": [
      "\u001b[1;31m---------------------------------------------------------------------------\u001b[0m",
      "\u001b[1;31mTypeError\u001b[0m                                 Traceback (most recent call last)",
      "\u001b[1;32m<ipython-input-88-dc14fd2a0e83>\u001b[0m in \u001b[0;36m<module>\u001b[1;34m\u001b[0m\n\u001b[1;32m----> 1\u001b[1;33m \u001b[0mprint\u001b[0m\u001b[1;33m(\u001b[0m\u001b[0mrange\u001b[0m\u001b[1;33m(\u001b[0m\u001b[1;33m)\u001b[0m\u001b[1;33m)\u001b[0m\u001b[1;33m\u001b[0m\u001b[1;33m\u001b[0m\u001b[0m\n\u001b[0m",
      "\u001b[1;31mTypeError\u001b[0m: range expected 1 argument, got 0"
     ]
    }
   ],
   "source": [
    "print(range())"
   ]
  },
  {
   "cell_type": "markdown",
   "id": "d7ead479",
   "metadata": {},
   "source": [
    "### default arguments"
   ]
  },
  {
   "cell_type": "code",
   "execution_count": 90,
   "id": "059a38d0",
   "metadata": {},
   "outputs": [
    {
     "name": "stdout",
     "output_type": "stream",
     "text": [
      "15\n",
      "5\n"
     ]
    }
   ],
   "source": [
    "def addition(a,b=0):\n",
    "    return a+b\n",
    "print(addition(5,10))\n",
    "print(addition(5))"
   ]
  },
  {
   "cell_type": "code",
   "execution_count": 91,
   "id": "1a184f91",
   "metadata": {},
   "outputs": [
    {
     "name": "stdout",
     "output_type": "stream",
     "text": [
      "range(0, 5)\n"
     ]
    }
   ],
   "source": [
    "print(range(5))"
   ]
  },
  {
   "cell_type": "markdown",
   "id": "67c2f16e",
   "metadata": {},
   "source": [
    "### keyword arguments"
   ]
  },
  {
   "cell_type": "code",
   "execution_count": 92,
   "id": "0199a0dd",
   "metadata": {},
   "outputs": [
    {
     "name": "stdout",
     "output_type": "stream",
     "text": [
      "abcdef\n",
      "defabc\n"
     ]
    }
   ],
   "source": [
    "def addition(a,b):\n",
    "    return a+b\n",
    "print(addition('abc',b='def'))\n",
    "print(addition(b='abc',a='def'))"
   ]
  },
  {
   "cell_type": "code",
   "execution_count": 93,
   "id": "3c15f4c7",
   "metadata": {},
   "outputs": [
    {
     "name": "stdout",
     "output_type": "stream",
     "text": [
      "abcdef\n"
     ]
    }
   ],
   "source": [
    "print(addition('abc','def'))"
   ]
  },
  {
   "cell_type": "code",
   "execution_count": 94,
   "id": "4d2f9f89",
   "metadata": {},
   "outputs": [
    {
     "name": "stdout",
     "output_type": "stream",
     "text": [
      "defabccccc\n"
     ]
    }
   ],
   "source": [
    "print(addition('def',b='abccccc'))"
   ]
  },
  {
   "cell_type": "code",
   "execution_count": 95,
   "id": "dee6b417",
   "metadata": {},
   "outputs": [
    {
     "ename": "TypeError",
     "evalue": "addition() got multiple values for argument 'a'",
     "output_type": "error",
     "traceback": [
      "\u001b[1;31m---------------------------------------------------------------------------\u001b[0m",
      "\u001b[1;31mTypeError\u001b[0m                                 Traceback (most recent call last)",
      "\u001b[1;32m<ipython-input-95-da43f899bff3>\u001b[0m in \u001b[0;36m<module>\u001b[1;34m\u001b[0m\n\u001b[1;32m----> 1\u001b[1;33m \u001b[0mprint\u001b[0m\u001b[1;33m(\u001b[0m\u001b[0maddition\u001b[0m\u001b[1;33m(\u001b[0m\u001b[1;34m'def'\u001b[0m\u001b[1;33m,\u001b[0m\u001b[0ma\u001b[0m\u001b[1;33m=\u001b[0m\u001b[1;34m'abccccc'\u001b[0m\u001b[1;33m)\u001b[0m\u001b[1;33m)\u001b[0m\u001b[1;33m\u001b[0m\u001b[1;33m\u001b[0m\u001b[0m\n\u001b[0m",
      "\u001b[1;31mTypeError\u001b[0m: addition() got multiple values for argument 'a'"
     ]
    }
   ],
   "source": [
    "print(addition('def',a='abccccc'))"
   ]
  }
 ],
 "metadata": {
  "kernelspec": {
   "display_name": "Python 3",
   "language": "python",
   "name": "python3"
  },
  "language_info": {
   "codemirror_mode": {
    "name": "ipython",
    "version": 3
   },
   "file_extension": ".py",
   "mimetype": "text/x-python",
   "name": "python",
   "nbconvert_exporter": "python",
   "pygments_lexer": "ipython3",
   "version": "3.8.8"
  }
 },
 "nbformat": 4,
 "nbformat_minor": 5
}
